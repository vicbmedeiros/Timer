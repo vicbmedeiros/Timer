{
 "cells": [
  {
   "cell_type": "code",
   "execution_count": 1,
   "id": "daa50c73",
   "metadata": {},
   "outputs": [],
   "source": [
    "import time"
   ]
  },
  {
   "cell_type": "code",
   "execution_count": 2,
   "id": "b023d6a6",
   "metadata": {},
   "outputs": [],
   "source": [
    "def start_timer(duration):\n",
    "    start_time = time.time()\n",
    "    end_time = start_time + duration\n",
    "    \n",
    "    while time.time() < end_time:\n",
    "        remaining_time = int(end_time - time.time())\n",
    "        print(f\"Time remaining: {remaining_time} seconds\")\n",
    "        time.sleep(1)\n",
    "    print(\"Timer finished!\")"
   ]
  },
  {
   "cell_type": "code",
   "execution_count": 7,
   "id": "198d5b58",
   "metadata": {},
   "outputs": [
    {
     "name": "stdout",
     "output_type": "stream",
     "text": [
      "Timer\n",
      "Enter the duration (in seconds): 3\n",
      "Time remaining: 2 seconds\n",
      "Time remaining: 1 seconds\n",
      "Time remaining: 0 seconds\n",
      "Timer finished!\n",
      "\n",
      "\n",
      "Do you want to start a new timer? (y or n)d\n",
      "Please insert y or n!\n",
      "Do you want to start a new timer? (y or n)y\n",
      "Enter the duration (in seconds): 4\n",
      "Time remaining: 3 seconds\n",
      "Time remaining: 2 seconds\n",
      "Time remaining: 1 seconds\n",
      "Time remaining: 0 seconds\n",
      "Timer finished!\n",
      "\n",
      "\n",
      "Do you want to start a new timer? (y or n)n\n"
     ]
    }
   ],
   "source": [
    "print(\"Timer\")\n",
    "\n",
    "duration = int(input(\"Enter the duration (in seconds): \"))\n",
    "start_timer(duration)\n",
    "print(\"\\n\")\n",
    "    \n",
    "while True:\n",
    "    \n",
    "    choice = input(\"Do you want to start a new timer? (y or n)\")\n",
    "    \n",
    "    if choice.lower()[0] == 'y':\n",
    "        duration = int(input(\"Enter the duration (in seconds): \"))\n",
    "        start_timer(duration)\n",
    "        print(\"\\n\")\n",
    "        \n",
    "    elif choice.lower()[0] != 'n':\n",
    "        print(\"Please insert y or n!\")\n",
    "        \n",
    "    else:\n",
    "        break"
   ]
  },
  {
   "cell_type": "code",
   "execution_count": null,
   "id": "1b8d4a72",
   "metadata": {},
   "outputs": [],
   "source": []
  }
 ],
 "metadata": {
  "kernelspec": {
   "display_name": "Python 3 (ipykernel)",
   "language": "python",
   "name": "python3"
  },
  "language_info": {
   "codemirror_mode": {
    "name": "ipython",
    "version": 3
   },
   "file_extension": ".py",
   "mimetype": "text/x-python",
   "name": "python",
   "nbconvert_exporter": "python",
   "pygments_lexer": "ipython3",
   "version": "3.11.5"
  }
 },
 "nbformat": 4,
 "nbformat_minor": 5
}
